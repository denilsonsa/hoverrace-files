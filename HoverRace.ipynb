{
 "cells": [
  {
   "cell_type": "markdown",
   "id": "77520f1f-195f-446c-b26f-6009157d1d94",
   "metadata": {
    "jp-MarkdownHeadingCollapsed": true
   },
   "source": [
    "## Imports"
   ]
  },
  {
   "cell_type": "code",
   "execution_count": null,
   "id": "f447842d-2918-4c91-b14e-d307f00f2263",
   "metadata": {},
   "outputs": [],
   "source": [
    "from __future__ import annotations\n",
    "\n",
    "import pprint\n",
    "import re\n",
    "import struct\n",
    "from array import array\n",
    "from dataclasses import dataclass, field\n",
    "from enum import Enum\n",
    "from itertools import chain\n",
    "from pathlib import Path\n",
    "from typing import BinaryIO\n",
    "from warnings import warn\n",
    "\n",
    "# Please install PIL or Pillow:\n",
    "from PIL.ImagePalette import ImagePalette\n",
    "from PIL.Image import frombytes as Image_frombytes, Image, Transpose"
   ]
  },
  {
   "cell_type": "markdown",
   "id": "fb3c77fe-e7c9-441d-859c-a1044a46a94b",
   "metadata": {
    "jp-MarkdownHeadingCollapsed": true
   },
   "source": [
    "## Shared / library code"
   ]
  },
  {
   "cell_type": "code",
   "execution_count": null,
   "id": "679851ef-8a35-4ff4-95dc-2126641a52a2",
   "metadata": {},
   "outputs": [],
   "source": [
    "class HoverRaceTrackException(Exception):\n",
    "    pass"
   ]
  },
  {
   "cell_type": "code",
   "execution_count": null,
   "id": "15d277a2-eb54-435a-83b3-f6b9b85d896a",
   "metadata": {},
   "outputs": [],
   "source": [
    "# Why isn't this a built-in function already?\n",
    "\n",
    "def unpack_stream(format: str, stream: BinaryIO):\n",
    "    size = struct.calcsize(format)\n",
    "    buf = stream.read(size)\n",
    "    assert len(buf) == size\n",
    "    assert isinstance(buf, bytes)\n",
    "    return struct.unpack(format, buf)    "
   ]
  },
  {
   "cell_type": "code",
   "execution_count": null,
   "id": "8f60c9f0-d890-4043-a247-696a62ecc61a",
   "metadata": {},
   "outputs": [],
   "source": [
    "# https://github.com/HoverRace/HoverRace/blob/master/engine/Parcel/ClassicObjStream.cpp\n",
    "\n",
    "MAX_STRING_LEN = 16 * 1024\n",
    "\n",
    "def pack_string_length(size: int) -> bytes:\n",
    "    if size < 0xff:\n",
    "        return struct.pack('<B', size)\n",
    "    elif size < 0xfffe:\n",
    "        return struct.pack('<BH', 0xff, size)\n",
    "    else:\n",
    "        return struct.pack('<BHL', 0xff, 0xffff, size)\n",
    "\n",
    "def unpack_string_length(stream: BinaryIO) -> int:\n",
    "    (b,) = unpack_stream('<B', stream)\n",
    "    if b < 0xff:\n",
    "        return b\n",
    "    (w,) = unpack_stream('<H', stream)\n",
    "    if w == 0xfffe:\n",
    "        # 0xfffe is the marker for Unicode strings.\n",
    "        raise NotImplementedError('ClassicObjStream::ReadStringLength for unicode strings')\n",
    "    elif w == 0xffff:\n",
    "        (dw,) = unpack_stream('<L', stream)\n",
    "        return dw\n",
    "    else:\n",
    "        return w\n",
    "\n",
    "def pack_string(s: str) -> bytes:\n",
    "    b = s.encode('ascii')\n",
    "    size = len(b)\n",
    "    if size > MAX_STRING_LEN:\n",
    "        # Note: this logic will lead to broken last character if we use utf-8.\n",
    "        warn('String length {} exceeds max {}; truncated: {}...'.format(size, MAX_STRING_LEN, s[:64]))\n",
    "        size = MAX_STRING_LEN\n",
    "    return pack_string_length(size) + b[:size]\n",
    "\n",
    "def unpack_string(stream: BinaryIO) -> str:\n",
    "    size = unpack_string_length(stream)\n",
    "    excess = 0\n",
    "    if size > MAX_STRING_LEN:\n",
    "        warn('String length {} exceeds max {}; truncating'.format(size, MAX_STRING_LEN))\n",
    "        excess = size - MAX_STRING_LEN\n",
    "        size = MAX_STRING_LEN\n",
    "    (buf,) = unpack_stream('{}s{}x'.format(size, excess), stream)\n",
    "    return buf.decode('ascii')"
   ]
  },
  {
   "cell_type": "markdown",
   "id": "df525423-8b1d-4c17-995c-b2a6327a9dd5",
   "metadata": {},
   "source": [
    "## Classes and data structures"
   ]
  },
  {
   "cell_type": "markdown",
   "id": "707ca287-fd31-412e-bc87-92023dad1f43",
   "metadata": {
    "jp-MarkdownHeadingCollapsed": true
   },
   "source": [
    "### ClassicRecordFileHeader"
   ]
  },
  {
   "cell_type": "code",
   "execution_count": null,
   "id": "29e7aace-fb6d-4e32-b534-88a28557ce69",
   "metadata": {},
   "outputs": [],
   "source": [
    "# https://github.com/HoverRace/HoverRace/blob/master/engine/Parcel/ClassicRecordFile.cpp\n",
    "\n",
    "class ClassicRecordFileHeader:\n",
    "    def __init__(self, *, title='', sumValid=False, checksum=0, recordsMax=0):\n",
    "        self.title = title\n",
    "        self.sumValid = sumValid\n",
    "        self.checksum = checksum\n",
    "        self.recordsUsed = 0\n",
    "        assert recordsMax >= 0\n",
    "        self.recordsMax = recordsMax # AKA numRecords\n",
    "        # recordList should be a list of four UInt32\n",
    "        self.recordList = array('L')\n",
    "        self.recordList.extend(0 for i in range(recordsMax))\n",
    "\n",
    "    def __repr__(self):\n",
    "        return re.sub(r'\\s+', ' ', '''\n",
    "        ClassicRecordFileHeader(\n",
    "            title={self.title!r},\n",
    "            sumValid={self.sumValid!r},\n",
    "            checksum={self.checksum!r},\n",
    "            recordsMax={self.recordsMax!r},\n",
    "        )'''.format(self=self)).strip()\n",
    "\n",
    "    # AKA .Serialize() for writing\n",
    "    def pack(self) -> bytes:\n",
    "        raise NotImplementedError('WIP')\n",
    "        return struct.pack()\n",
    "\n",
    "    # AKA .Serialize() for reading\n",
    "    # Modifies in-place\n",
    "    def unpack_here(self, stream: BinaryIO):\n",
    "        self.title = unpack_string(stream)\n",
    "        self.sumValid, self.checksum, self.recordsUsed, self.recordsMax = unpack_stream('<8xLLLL8x', stream)\n",
    "        self.sumValid = bool(self.sumValid)\n",
    "        self.recordList = array('L')\n",
    "\n",
    "        assert self.recordsMax == 4\n",
    "\n",
    "        # Check title for validity.\n",
    "        if 'HoverRace track file' not in self.title and 'Fireball object factory resource file' not in self.title:\n",
    "            raise HoverRaceTrackException('Missing or corrupt header')\n",
    "\n",
    "        for i in range(self.recordsMax):\n",
    "            # This is a list of \"pointers\" to file positions.\n",
    "            (uint32,) = unpack_stream('<L', stream)\n",
    "            self.recordList.append(uint32)\n",
    "            # https://github.com/HoverRace/HoverRace/blob/master/doc/dev/track-format.txt\n",
    "            # A track has 4 records.\n",
    "            # Record 0 is a TrackEntry, AKA metadata.\n",
    "            # Record 1 is a Level.\n",
    "            # Record 2 is a Background (optional?). [NOT a background palette (8128 * 3 bytes)?]\n",
    "            # Record 3 is the map (LoadMap), AKA a texture. (optional?)\n",
    "\n",
    "    # AKA .Serialize() for reading\n",
    "    # Returns a new instance.\n",
    "    @classmethod\n",
    "    def unpack(cls, stream: BinaryIO) -> ClassicRecordFileHeader:\n",
    "        obj = cls()\n",
    "        obj.unpack_here(stream)\n",
    "        return obj"
   ]
  },
  {
   "cell_type": "markdown",
   "id": "87b52ff4-9cda-40a0-9c18-ad4223a80245",
   "metadata": {
    "jp-MarkdownHeadingCollapsed": true
   },
   "source": [
    "### TrackEntry (metadata)"
   ]
  },
  {
   "cell_type": "code",
   "execution_count": null,
   "id": "6d6ef323-77b6-4ab6-9e7e-0138f344e3c1",
   "metadata": {},
   "outputs": [],
   "source": [
    "MR_REGISTERED_TRACK = 0;\n",
    "MR_FREE_TRACK = 1;\n",
    "\n",
    "class RegistrationMode(Enum):\n",
    "    REGISTERED = 0\n",
    "    FREE = 1"
   ]
  },
  {
   "cell_type": "code",
   "execution_count": null,
   "id": "014ac116-8610-4a3d-88d6-15b5e19d04e1",
   "metadata": {},
   "outputs": [],
   "source": [
    "MR_NOBITMAP = 0;\n",
    "MR_RAWBITMAP = 1;\n",
    "\n",
    "class ImageType(Enum):\n",
    "    NOBITMAP = 0\n",
    "    RAWBITMAP = 1"
   ]
  },
  {
   "cell_type": "code",
   "execution_count": null,
   "id": "66ad3630-2c09-444f-b22f-d89f11b37ec6",
   "metadata": {},
   "outputs": [],
   "source": [
    "# https://github.com/HoverRace/HoverRace/blob/master/engine/Model/TrackEntry.cpp\n",
    "\n",
    "MR_MAGIC_TRACK_NUMBER = 82617\n",
    "\n",
    "@dataclass\n",
    "class TrackEntry:\n",
    "    # name: str = ''  # The name is not part of the file. It's likely coming from the filename.\n",
    "    description: str = ''\n",
    "    regMinor: int = 0\n",
    "    regMajor: int = 0\n",
    "    registrationMode: RegistrationMode = 0\n",
    "    sortingIndex: int = 0\n",
    "\n",
    "    @classmethod\n",
    "    def unpack(cls, stream: BinaryIO):\n",
    "        obj = cls()\n",
    "        magicNumber, version = unpack_stream('<ll', stream)\n",
    "        if magicNumber != MR_MAGIC_TRACK_NUMBER:\n",
    "            raise HoverRaceTrackException('Bad magic number: 0x%08x' % magicNumber)\n",
    "        if version != 1:\n",
    "            raise HoverRaceTrackException('Unknown track version: {}'.format(magicNumber))\n",
    "        obj.description = unpack_string(stream)\n",
    "        obj.regMinor, obj.regMajor, obj.sortingIndex, mode = unpack_stream('<llll', stream)\n",
    "        obj.registrationMode = RegistrationMode(mode)\n",
    "        if obj.registrationMode == RegistrationMode.FREE:\n",
    "            (magicNumber2,) = unpack_stream('<l', stream)\n",
    "            if magicNumber2 != MR_MAGIC_TRACK_NUMBER:\n",
    "                raise HoverRaceTrackException('Bad magic number for free track: 0x%08x' % magicNumber2)\n",
    "        return obj\n"
   ]
  },
  {
   "cell_type": "markdown",
   "id": "f565aeac-89e6-480b-a643-69e428ff1c40",
   "metadata": {},
   "source": [
    "### Level"
   ]
  },
  {
   "cell_type": "code",
   "execution_count": null,
   "id": "f0d415ec-7242-4f5d-9eb4-0880fa0a3fcd",
   "metadata": {},
   "outputs": [],
   "source": [
    "# https://github.com/HoverRace/HoverRace/blob/master/engine/Model/Track.cpp\n",
    "# https://github.com/HoverRace/HoverRace/blob/master/engine/Model/Level.h\n",
    "# https://github.com/HoverRace/HoverRace/blob/master/engine/Model/Level.cpp\n",
    "\n",
    "# TODO: Write this code! It involves in 9 different data structures!\n",
    "# Classes:\n",
    "# * Track (maybe already defined elsewhere)\n",
    "# * Level (the main class here)\n",
    "# * SectionShape (derived from PolygonShape)\n",
    "# * FreeElementList\n",
    "# And also structs:\n",
    "# * SectionId\n",
    "# * Section\n",
    "# * Feature (derived from Section)\n",
    "# * Room (derived from Section)\n",
    "# * AudibleRoom"
   ]
  },
  {
   "cell_type": "markdown",
   "id": "7b7010fe-2cfd-4ab7-9a22-78062e350926",
   "metadata": {
    "jp-MarkdownHeadingCollapsed": true
   },
   "source": [
    "### Color Palette"
   ]
  },
  {
   "cell_type": "code",
   "execution_count": null,
   "id": "635c9e99-41aa-40f2-8662-de003268cd7d",
   "metadata": {},
   "outputs": [],
   "source": [
    "# https://github.com/HoverRace/HoverRace/blob/master/engine/VideoServices/ColorPalette.h\n",
    "MR_NB_COLORS                 = 256\n",
    "MR_RESERVED_COLORS_BEGINNING =  10\n",
    "MR_RESERVED_COLORS_END       =  15\n",
    "MR_RESERVED_COLORS           =   6\n",
    "MR_BASIC_COLORS              = 100  # Includes some extra space\n",
    "MR_BACK_COLORS               = 128\n",
    "\n",
    "MR_NB_COLOR_INTENSITY        = 256\n",
    "MR_NORMAL_INTENSITY          = 128\n",
    "\n",
    "# https://github.com/HoverRace/HoverRace/blob/master/engine/VideoServices/Viewport3D.h\n",
    "MR_BACK_X_RES = 2048\n",
    "MR_BACK_Y_RES = 256"
   ]
  },
  {
   "cell_type": "code",
   "execution_count": null,
   "id": "dbcf6b74-0ae2-4e24-8384-4e7cea9c1377",
   "metadata": {},
   "outputs": [],
   "source": [
    "# https://github.com/HoverRace/HoverRace/blob/master/engine/VideoServices/ColorTab.cpp\n",
    "\n",
    "BASIC_PALETTE_SIZE = 68\n",
    "BASIC_PALETTE = [\n",
    "    [1.000000, 1.000000, 1.000000],\n",
    "\t[0.000000, 0.000000, 0.000000],\n",
    "\t[0.937500, 0.937500, 0.937500],\n",
    "\t[0.875000, 0.875000, 0.875000],\n",
    "\t[0.812500, 0.812500, 0.812500],\n",
    "\t[0.750000, 0.750000, 0.750000],\n",
    "\t[0.687500, 0.687500, 0.687500],\n",
    "\t[0.625000, 0.625000, 0.625000],\n",
    "\t[0.562500, 0.562500, 0.562500],\n",
    "\t[0.500000, 0.500000, 0.500000],\n",
    "\t[0.437500, 0.437500, 0.437500],\n",
    "\t[0.375000, 0.375000, 0.375000],\n",
    "\t[0.312500, 0.312500, 0.312500],\n",
    "\t[0.250000, 0.250000, 0.250000],\n",
    "\t[0.187500, 0.187500, 0.187500],\n",
    "\t[0.125000, 0.125000, 0.125000],\n",
    "\t[0.062500, 0.062500, 0.062500],\n",
    "\t[0.972549, 0.647059, 0.384314],\n",
    "\t[0.875294, 0.582353, 0.345882],\n",
    "\t[0.680784, 0.452941, 0.269020],\n",
    "\t[0.979412, 0.735294, 0.538235],\n",
    "\t[0.349020, 0.803922, 0.270588],\n",
    "\t[0.261765, 0.602941, 0.202941],\n",
    "\t[0.174510, 0.401961, 0.135294],\n",
    "\t[0.674510, 0.901961, 0.635294],\n",
    "\t[0.992157, 0.039216, 0.039216],\n",
    "\t[0.744118, 0.029412, 0.029412],\n",
    "\t[0.496078, 0.019608, 0.019608],\n",
    "\t[0.996078, 0.519608, 0.519608],\n",
    "\t[0.988235, 0.843137, 0.003922],\n",
    "\t[0.741176, 0.632353, 0.002941],\n",
    "\t[0.494118, 0.421569, 0.001961],\n",
    "\t[0.247059, 0.210784, 0.000980],\n",
    "\t[0.890196, 0.023529, 0.243137],\n",
    "\t[0.801176, 0.021176, 0.218824],\n",
    "\t[0.712157, 0.018824, 0.194510],\n",
    "\t[0.623137, 0.016471, 0.170196],\n",
    "\t[0.917647, 0.267647, 0.432353],\n",
    "\t[0.945098, 0.511765, 0.621569],\n",
    "\t[0.972549, 0.755882, 0.810784],\n",
    "\t[0.000000, 0.172549, 0.756863],\n",
    "\t[0.000000, 0.155294, 0.681176],\n",
    "\t[0.000000, 0.138039, 0.605490],\n",
    "\t[0.000000, 0.120784, 0.529804],\n",
    "\t[0.250000, 0.379412, 0.817647],\n",
    "\t[0.500000, 0.586275, 0.878431],\n",
    "\t[0.750000, 0.793137, 0.939216],\n",
    "\t[0.556863, 0.274510, 0.650980],\n",
    "\t[0.501176, 0.247059, 0.585882],\n",
    "\t[0.445490, 0.219608, 0.520784],\n",
    "\t[0.389804, 0.192157, 0.455686],\n",
    "\t[0.667647, 0.455882, 0.738235],\n",
    "\t[0.778431, 0.637255, 0.825490],\n",
    "\t[0.889216, 0.818627, 0.912745],\n",
    "\t[0.968627, 0.968627, 0.000000],\n",
    "\t[0.887908, 0.887908, 0.000000],\n",
    "\t[0.807190, 0.807190, 0.000000],\n",
    "\t[0.726471, 0.726471, 0.000000],\n",
    "\t[0.976471, 0.976471, 0.250000],\n",
    "\t[0.984314, 0.984314, 0.500000],\n",
    "\t[0.992157, 0.992157, 0.750000],\n",
    "\t[1.000000, 0.533333, 0.066667],\n",
    "\t[0.916667, 0.488889, 0.061111],\n",
    "\t[0.833333, 0.444444, 0.055556],\n",
    "\t[0.750000, 0.400000, 0.050000],\n",
    "\t[1.000000, 0.650000, 0.300000],\n",
    "\t[1.000000, 0.766667, 0.533333],\n",
    "\t[1.000000, 0.883333, 0.766667],\n",
    "]\n",
    "\n",
    "assert len(BASIC_PALETTE) == BASIC_PALETTE_SIZE"
   ]
  },
  {
   "cell_type": "code",
   "execution_count": null,
   "id": "3dd1b598-62ec-438a-b5be-5ace0811fe5d",
   "metadata": {},
   "outputs": [],
   "source": [
    "# https://github.com/HoverRace/HoverRace/blob/master/engine/VideoServices/VideoBuffer.cpp\n",
    "\n",
    "def createPalette(raw_pal: bytes) -> ImagePalette:\n",
    "    # Hard-coded color correction, defaults from:\n",
    "    # https://github.com/HoverRace/HoverRace/blob/master/engine/Util/Config.cpp\n",
    "    gamma = 1.2\n",
    "    contrast = 0.95\n",
    "    brightness = 0.95\n",
    "    textScale = 0.7\n",
    "\n",
    "    # TODO: This function is very messy.\n",
    "    # I should refactor it:\n",
    "    # * One function to do color correction. Could be a lambda or partial function.\n",
    "    # * One function to generate the basic palette.\n",
    "    # * One function to generate the bg palette. (Optionally without any color correction.)\n",
    "    # * One function to join it all together (concatenation of bytearrays).\n",
    "\n",
    "    pGamma = 1.0 / gamma\n",
    "    pIntensity = contrast * brightness\n",
    "    pIntensityBase = brightness - pIntensity\n",
    "\n",
    "    pal = bytearray(256 * 3)\n",
    "    idx = MR_RESERVED_COLORS_BEGINNING * 3\n",
    "    for component in chain.from_iterable(BASIC_PALETTE):\n",
    "        corrected = min(255, int(256 * (pIntensityBase + pIntensity * (component ** pGamma))))\n",
    "        pal[idx] = corrected\n",
    "        idx += 1\n",
    "    assert idx % 3 == 0\n",
    "    while idx - (MR_RESERVED_COLORS_BEGINNING * 3) < MR_BASIC_COLORS * 3:\n",
    "        x = idx // 3\n",
    "        pal[idx + 0] = 255  # Red\n",
    "        pal[idx + 1] = 255  # Green\n",
    "        pal[idx + 2] = x - 15  # Blue\n",
    "        idx += 3  # Skipping one, for some reason.\n",
    "        idx += 3\n",
    "    assert idx == (MR_RESERVED_COLORS_BEGINNING + MR_BASIC_COLORS) * 3\n",
    "\n",
    "    assert len(raw_pal) == MR_BACK_COLORS * 3\n",
    "    for component in raw_pal:\n",
    "        corrected = min(255, int(256 * (pIntensityBase + pIntensity * ((component / 256) ** pGamma))))\n",
    "        pal[idx] = corrected\n",
    "        idx += 1\n",
    "\n",
    "    return ImagePalette('RGB', pal)"
   ]
  },
  {
   "cell_type": "markdown",
   "id": "90baf55a-dded-4b6e-92fc-1d14ff8fbd28",
   "metadata": {
    "jp-MarkdownHeadingCollapsed": true
   },
   "source": [
    "### Background"
   ]
  },
  {
   "cell_type": "code",
   "execution_count": null,
   "id": "93096aa0-aaeb-4b94-89cd-430f5f8e2ce1",
   "metadata": {},
   "outputs": [],
   "source": [
    "# https://github.com/HoverRace/HoverRace/blob/master/client/Game2/ClientSession.cpp\n",
    "\n",
    "@dataclass\n",
    "class Background:\n",
    "    imageType: ImageType = 0\n",
    "    raw_pal: bytes = field(default=None, repr=False)\n",
    "    raw_img: bytes = field(default=None, repr=False)\n",
    "    pal: ImagePalette = None\n",
    "    img: Image = None\n",
    "\n",
    "    @classmethod\n",
    "    def unpack(cls, stream:BinaryIO):\n",
    "        obj = cls()\n",
    "        (img_type,) = unpack_stream('<l', stream)\n",
    "        obj.imageType = ImageType(img_type)\n",
    "        if obj.imageType == ImageType.RAWBITMAP:\n",
    "            obj.raw_pal, obj.raw_img = unpack_stream('{}s{}s'.format(MR_BACK_COLORS * 3, MR_BACK_X_RES * MR_BACK_Y_RES), stream)\n",
    "            # The background image doesn't use any colors outside the correct range.\n",
    "            assert all(\n",
    "                MR_RESERVED_COLORS_BEGINNING + MR_BASIC_COLORS <= color < MR_RESERVED_COLORS_BEGINNING + MR_BASIC_COLORS + MR_BACK_COLORS\n",
    "                for color in obj.raw_img\n",
    "            )\n",
    "            obj.pal = createPalette(obj.raw_pal)\n",
    "            obj.img = Image_frombytes('P', (MR_BACK_Y_RES, MR_BACK_X_RES), obj.raw_img).transpose(Transpose.ROTATE_90)\n",
    "            obj.img.putpalette(obj.pal)\n",
    "        return obj"
   ]
  },
  {
   "cell_type": "markdown",
   "id": "eb8095dc-3d93-4929-bfa8-95d8d9d1f19e",
   "metadata": {
    "jp-MarkdownHeadingCollapsed": true
   },
   "source": [
    "### Track Map"
   ]
  },
  {
   "cell_type": "markdown",
   "id": "7f79d2e7-9b3d-4256-859f-14159c7fe252",
   "metadata": {},
   "source": [
    "#### SpriteTextureRes"
   ]
  },
  {
   "cell_type": "code",
   "execution_count": null,
   "id": "073ab767-1efc-4589-a383-03c01d33ba59",
   "metadata": {},
   "outputs": [],
   "source": [
    "# https://github.com/HoverRace/HoverRace/blob/master/engine/Display/SpriteTextureRes.cpp\n",
    "\n",
    "MAX_TEXTURE_WIDTH = 4096\n",
    "MAX_TEXTURE_HEIGHT = 4096\n",
    "\n",
    "@dataclass\n",
    "class SpriteTextureRes:\n",
    "    numItems: int = 0\n",
    "    itemHeight: int = 0\n",
    "    totalHeight: int = 0\n",
    "    width: int = 0\n",
    "    img: Image = None\n",
    "\n",
    "    @classmethod\n",
    "    def unpack(cls, stream:BinaryIO):\n",
    "        obj = cls()\n",
    "        obj.numItems, obj.itemHeight, obj.totalHeight, obj.width = unpack_stream('<LLLL', stream)\n",
    "\n",
    "        if obj.numItems == 0:\n",
    "            raise HoverRaceTrackException('No items in sprite')\n",
    "        elif obj.numItems > 1:\n",
    "            warn('More than one item in sprite texture (entire sprite will be used): {}'.format(obj.numItems))\n",
    "\n",
    "        if obj.width > MAX_TEXTURE_WIDTH or obj.totalHeight > MAX_TEXTURE_HEIGHT:\n",
    "            raise HoverRaceTrackException('Texture size ({}x{}) exceeds maximum size ({}x{})'.format(obj.width, obj.totalHeight, MAX_TEXTURE_WIDTH, MAX_TEXTURE_HEIGHT))\n",
    "\n",
    "        assert obj.itemHeight <= obj.totalHeight\n",
    "        assert obj.totalHeight % obj.itemHeight == 0\n",
    "\n",
    "        (raw_img,) = unpack_stream('{}s'.format(obj.width * obj.totalHeight), stream)\n",
    "        # Should I use the basic palette for this one?\n",
    "        obj.img = Image_frombytes('L', (obj.width, obj.totalHeight), raw_img)\n",
    "        return obj"
   ]
  },
  {
   "cell_type": "markdown",
   "id": "e87f0e64-4479-4204-85ef-494c5d73f4bc",
   "metadata": {},
   "source": [
    "#### Track"
   ]
  },
  {
   "cell_type": "code",
   "execution_count": null,
   "id": "45128463-4457-40a1-925d-0ea7dedba70a",
   "metadata": {},
   "outputs": [],
   "source": [
    "# https://github.com/HoverRace/HoverRace/blob/master/engine/Model/Track.cpp\n",
    "# https://github.com/HoverRace/HoverRace/blob/master/engine/Parcel/TrackBundle.cpp\n",
    "\n",
    "@dataclass\n",
    "class Track:\n",
    "    x0: int = 0\n",
    "    x1: int = 0\n",
    "    y0: int = 0\n",
    "    y1: int = 0\n",
    "    map: SpriteTextureRes = None\n",
    "\n",
    "    @property\n",
    "    def width(self):\n",
    "        return self.x1 - self.x0\n",
    "    @property\n",
    "    def height(self):\n",
    "        return self.y1 - self.y0\n",
    "\n",
    "    @classmethod\n",
    "    def unpack(cls, stream:BinaryIO):\n",
    "        obj = cls()\n",
    "        obj.x0, obj.x1, obj.y0, obj.y1 = unpack_stream('<llll', stream)\n",
    "        obj.map = SpriteTextureRes.unpack(stream)\n",
    "        return obj"
   ]
  },
  {
   "cell_type": "markdown",
   "id": "8b99f3f9-7f85-43a3-9f64-7bc77162ce44",
   "metadata": {},
   "source": [
    "### ClassicRecordFile (TRK file)"
   ]
  },
  {
   "cell_type": "code",
   "execution_count": null,
   "id": "87c6a49f-df1a-41b8-97fe-e439d8f4fa60",
   "metadata": {},
   "outputs": [],
   "source": [
    "# https://github.com/HoverRace/HoverRace/blob/master/engine/Parcel/ClassicRecordFile.cpp\n",
    "\n",
    "@dataclass\n",
    "class ClassicRecordFile:\n",
    "    header: ClassicRecordFileHeader = None\n",
    "    entry: TrackEntry = None\n",
    "    level = None\n",
    "    background: Background = None\n",
    "    track: Track = None\n",
    "\n",
    "    @classmethod\n",
    "    def unpack(cls, stream: BinaryIO):\n",
    "        obj = cls()\n",
    "        obj.header = ClassicRecordFileHeader.unpack(stream)\n",
    "        stream.seek(obj.header.recordList[0])\n",
    "        obj.entry = TrackEntry.unpack(stream)\n",
    "        stream.seek(obj.header.recordList[1])\n",
    "        # TODO\n",
    "        stream.seek(obj.header.recordList[2])\n",
    "        obj.background = Background.unpack(stream)\n",
    "        stream.seek(obj.header.recordList[3])\n",
    "        obj.track = Track.unpack(stream)\n",
    "        return obj"
   ]
  },
  {
   "cell_type": "markdown",
   "id": "a2eaecd6-7fd7-4d95-8c08-4721137e7256",
   "metadata": {},
   "source": [
    "## Main application-like code"
   ]
  },
  {
   "cell_type": "code",
   "execution_count": null,
   "id": "9c63f2f6-2fe2-49c0-985a-818848a07c93",
   "metadata": {},
   "outputs": [],
   "source": [
    "BASEDIR = Path('~/.var/app/com.valvesoftware.Steam/data/Steam/steamapps/common/HoverRace/tracks/').expanduser()"
   ]
  },
  {
   "cell_type": "code",
   "execution_count": null,
   "id": "7a1561f6-ea86-45d4-b911-a37a2dc18969",
   "metadata": {},
   "outputs": [],
   "source": [
    "with open(BASEDIR / 'ClassicH.trk', 'rb') as f:\n",
    "    record = ClassicRecordFile.unpack(f)"
   ]
  },
  {
   "cell_type": "code",
   "execution_count": null,
   "id": "3ee1d0f5-02de-459e-957f-5a9e89692fce",
   "metadata": {
    "scrolled": true
   },
   "outputs": [],
   "source": [
    "record"
   ]
  },
  {
   "cell_type": "code",
   "execution_count": null,
   "id": "bc4259ea-c2b5-4367-b055-76f1887c9b41",
   "metadata": {},
   "outputs": [],
   "source": [
    "[hex(x) for x in record.header.recordList]"
   ]
  },
  {
   "cell_type": "code",
   "execution_count": null,
   "id": "674a813c-e9a7-4525-94a6-9a17d2a33b93",
   "metadata": {},
   "outputs": [],
   "source": [
    "record.background.raw_pal"
   ]
  },
  {
   "cell_type": "code",
   "execution_count": null,
   "id": "6638bfb3-b5ab-4b5f-9dfe-633247615a10",
   "metadata": {},
   "outputs": [],
   "source": [
    "record.background.pal.getdata()"
   ]
  },
  {
   "cell_type": "code",
   "execution_count": null,
   "id": "8bc6ae32-9dc4-40cf-b876-e748f788bdc8",
   "metadata": {},
   "outputs": [],
   "source": [
    "record.background.img"
   ]
  },
  {
   "cell_type": "code",
   "execution_count": null,
   "id": "65d6ab2e-ef16-42a9-bc26-62955ece23f5",
   "metadata": {},
   "outputs": [],
   "source": [
    "record.track.map.img"
   ]
  }
 ],
 "metadata": {
  "kernelspec": {
   "display_name": "Python 3 (ipykernel)",
   "language": "python",
   "name": "python3"
  },
  "language_info": {
   "codemirror_mode": {
    "name": "ipython",
    "version": 3
   },
   "file_extension": ".py",
   "mimetype": "text/x-python",
   "name": "python",
   "nbconvert_exporter": "python",
   "pygments_lexer": "ipython3",
   "version": "3.13.3"
  }
 },
 "nbformat": 4,
 "nbformat_minor": 5
}
