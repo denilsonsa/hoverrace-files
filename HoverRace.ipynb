{
 "cells": [
  {
   "cell_type": "code",
   "execution_count": 1,
   "id": "f447842d-2918-4c91-b14e-d307f00f2263",
   "metadata": {},
   "outputs": [],
   "source": [
    "from __future__ import annotations\n",
    "\n",
    "import pprint\n",
    "import re\n",
    "import struct\n",
    "from array import array\n",
    "from dataclasses import dataclass\n",
    "from enum import Enum\n",
    "from pathlib import Path\n",
    "from typing import BinaryIO\n",
    "from warnings import warn"
   ]
  },
  {
   "cell_type": "markdown",
   "id": "fb3c77fe-e7c9-441d-859c-a1044a46a94b",
   "metadata": {},
   "source": [
    "## Shared / library code"
   ]
  },
  {
   "cell_type": "code",
   "execution_count": 2,
   "id": "15d277a2-eb54-435a-83b3-f6b9b85d896a",
   "metadata": {},
   "outputs": [],
   "source": [
    "# Why isn't this a built-in function already?\n",
    "\n",
    "def unpack_stream(format: str, stream: BinaryIO):\n",
    "    size = struct.calcsize(format)\n",
    "    buf = stream.read(size)\n",
    "    assert len(buf) == size\n",
    "    assert isinstance(buf, bytes)\n",
    "    return struct.unpack(format, buf)    "
   ]
  },
  {
   "cell_type": "code",
   "execution_count": 3,
   "id": "679851ef-8a35-4ff4-95dc-2126641a52a2",
   "metadata": {},
   "outputs": [],
   "source": [
    "class HoverRaceTrackException(Exception):\n",
    "    pass"
   ]
  },
  {
   "cell_type": "code",
   "execution_count": 4,
   "id": "8f60c9f0-d890-4043-a247-696a62ecc61a",
   "metadata": {},
   "outputs": [],
   "source": [
    "# TODO: write methods or functions to read/write from/to a string\n",
    "# https://github.com/HoverRace/HoverRace/blob/master/engine/Parcel/ClassicObjStream.cpp\n",
    "\n",
    "MAX_STRING_LEN = 16 * 1024\n",
    "\n",
    "def pack_string_length(size: int) -> bytes:\n",
    "    if size < 0xff:\n",
    "        return struct.pack('<B', size)\n",
    "    elif size < 0xfffe:\n",
    "        return struct.pack('<BH', 0xff, size)\n",
    "    else:\n",
    "        return struct.pack('<BHL', 0xff, 0xffff, size)\n",
    "\n",
    "def unpack_string_length(stream: BinaryIO) -> int:\n",
    "    (b,) = unpack_stream('<B', stream)\n",
    "    if b < 0xff:\n",
    "        return b\n",
    "    (w,) = unpack_stream('<H', stream)\n",
    "    if w == 0xfffe:\n",
    "        # 0xfffe is the marker for Unicode strings.\n",
    "        raise NotImplementedError('ClassicObjStream::ReadStringLength for unicode strings')\n",
    "    elif w == 0xffff:\n",
    "        (dw,) = unpack_stream('<L', stream)\n",
    "        return dw\n",
    "    else:\n",
    "        return w\n",
    "\n",
    "def pack_string(s: str) -> bytes:\n",
    "    b = s.encode('ascii')\n",
    "    size = len(b)\n",
    "    if size > MAX_STRING_LEN:\n",
    "        # Note: this logic will lead to broken last character if we use utf-8.\n",
    "        warn('String length {} exceeds max {}; truncated: {}...'.format(size, MAX_STRING_LEN, s[:64]))\n",
    "        size = MAX_STRING_LEN\n",
    "    return pack_string_length(size) + b[:size]\n",
    "\n",
    "def unpack_string(stream: BinaryIO) -> str:\n",
    "    size = unpack_string_length(stream)\n",
    "    excess = 0\n",
    "    if size > MAX_STRING_LEN:\n",
    "        warn('String length {} exceeds max {}; truncating'.format(size, MAX_STRING_LEN))\n",
    "        excess = size - MAX_STRING_LEN\n",
    "        size = MAX_STRING_LEN\n",
    "    (buf,) = unpack_stream('{}s{}x'.format(size, excess), stream)\n",
    "    return buf.decode('ascii')"
   ]
  },
  {
   "cell_type": "code",
   "execution_count": 5,
   "id": "29e7aace-fb6d-4e32-b534-88a28557ce69",
   "metadata": {},
   "outputs": [],
   "source": [
    "# https://github.com/HoverRace/HoverRace/blob/master/engine/Parcel/ClassicRecordFile.cpp\n",
    "\n",
    "class ClassicRecordFileHeader:\n",
    "    def __init__(self, *, title='', sumValid=False, checksum=0, recordsMax=0):\n",
    "        self.title = title\n",
    "        self.sumValid = sumValid\n",
    "        self.checksum = checksum\n",
    "        self.recordsUsed = 0\n",
    "        assert recordsMax >= 0\n",
    "        self.recordsMax = recordsMax # AKA numRecords\n",
    "        # recordList should be a list of four UInt32\n",
    "        self.recordList = array('L')\n",
    "        self.recordList.extend(0 for i in range(recordsMax))\n",
    "\n",
    "    def __repr__(self):\n",
    "        return re.sub(r'\\s+', ' ', '''\n",
    "        ClassicRecordFileHeader(\n",
    "            title={self.title!r},\n",
    "            sumValid={self.sumValid!r},\n",
    "            checksum={self.checksum!r},\n",
    "            recordsMax={self.recordsMax!r},\n",
    "        )'''.format(self=self)).strip()\n",
    "\n",
    "    # AKA .Serialize() for writing\n",
    "    def pack(self) -> bytes:\n",
    "        raise NotImplementedError('WIP')\n",
    "        return struct.pack()\n",
    "\n",
    "    # AKA .Serialize() for reading\n",
    "    # Modifies in-place\n",
    "    def unpack_here(self, stream: BinaryIO):\n",
    "        self.title = unpack_string(stream)\n",
    "        self.sumValid, self.checksum, self.recordsUsed, self.recordsMax = unpack_stream('<8xLLLL8x', stream)\n",
    "        self.sumValid = bool(self.sumValid)\n",
    "        self.recordList = array('L')\n",
    "\n",
    "        assert self.recordsMax == 4\n",
    "\n",
    "        # Check title for validity.\n",
    "        if 'HoverRace track file' not in self.title and 'Fireball object factory resource file' not in self.title:\n",
    "            raise HoverRaceTrackException('Missing or corrupt header')\n",
    "\n",
    "        for i in range(self.recordsMax):\n",
    "            # This is a list of \"pointers\" to file positions.\n",
    "            (uint32,) = unpack_stream('<L', stream)\n",
    "            self.recordList.append(uint32)\n",
    "            # https://github.com/HoverRace/HoverRace/blob/master/doc/dev/track-format.txt\n",
    "            # A track has 4 records.\n",
    "            # Record 0 is a TrackEntry, AKA metadata.\n",
    "            # Record 1 is a Level.\n",
    "            # Record 2 is a Background (optional?). [NOT a background palette (8128 * 3 bytes)?]\n",
    "            # Record 3 is the map (LoadMap), AKA a texture. (optional?)\n",
    "\n",
    "    # AKA .Serialize() for reading\n",
    "    # Returns a new instance.\n",
    "    @classmethod\n",
    "    def unpack(cls, stream: BinaryIO) -> ClassicRecordFileHeader:\n",
    "        obj = cls()\n",
    "        obj.unpack_here(stream)\n",
    "        return obj"
   ]
  },
  {
   "cell_type": "code",
   "execution_count": 6,
   "id": "87c6a49f-df1a-41b8-97fe-e439d8f4fa60",
   "metadata": {},
   "outputs": [],
   "source": [
    "# https://github.com/HoverRace/HoverRace/blob/master/engine/Parcel/ClassicRecordFile.cpp\n",
    "\n",
    "class ClassicRecordFile:\n",
    "    def __init__(self):\n",
    "        self.header = None\n",
    "        self.entry = None\n",
    "\n",
    "    def __repr__(self):\n",
    "        return '<ClassicRecordFile header={self.header!r} entry={self.entry!r}>'.format(self=self)\n",
    "\n",
    "    def read(self, stream: BinaryIO):\n",
    "        self.header = ClassicRecordFileHeader.unpack(stream)\n",
    "        stream.seek(self.header.recordList[0])\n",
    "        self.entry = TrackEntry.unpack(stream)\n",
    "        warn('WIP')"
   ]
  },
  {
   "cell_type": "code",
   "execution_count": 7,
   "id": "6d6ef323-77b6-4ab6-9e7e-0138f344e3c1",
   "metadata": {},
   "outputs": [],
   "source": [
    "MR_REGISTERED_TRACK = 0;\n",
    "MR_FREE_TRACK = 1;\n",
    "\n",
    "class RegistrationMode(Enum):\n",
    "    REGISTERED = 0\n",
    "    FREE = 1"
   ]
  },
  {
   "cell_type": "code",
   "execution_count": 8,
   "id": "66ad3630-2c09-444f-b22f-d89f11b37ec6",
   "metadata": {},
   "outputs": [],
   "source": [
    "# https://github.com/HoverRace/HoverRace/blob/master/engine/Model/TrackEntry.cpp\n",
    "\n",
    "MR_MAGIC_TRACK_NUMBER = 82617\n",
    "MR_NOBITMAP = 0;\n",
    "MR_BITMAP = 1;\n",
    "\n",
    "@dataclass\n",
    "class TrackEntry:\n",
    "    # name: str = ''  # The name is not part of the file. It's likely coming from the filename.\n",
    "    description: str = ''\n",
    "    regMinor: int = 0\n",
    "    regMajor: int = 0\n",
    "    registrationMode: RegistrationMode = 0\n",
    "    sortingIndex: int = 0\n",
    "\n",
    "    @classmethod\n",
    "    def unpack(cls, stream: BinaryIO):\n",
    "        obj = cls()\n",
    "        magicNumber, version = unpack_stream('<ll', stream)\n",
    "        if magicNumber != MR_MAGIC_TRACK_NUMBER:\n",
    "            raise HoverRaceTrackException('Bad magic number: 0x%08x' % magicNumber)\n",
    "        if version != 1:\n",
    "            raise HoverRaceTrackException('Unknown track version: {}'.format(magicNumber))\n",
    "        obj.description = unpack_string(stream)\n",
    "        obj.regMinor, obj.regMajor, obj.sortingIndex, mode = unpack_stream('<llll', stream)\n",
    "        obj.registrationMode = RegistrationMode(mode)\n",
    "        if obj.registrationMode == RegistrationMode.FREE:\n",
    "            (magicNumber2,) = unpack_stream('<l', stream)\n",
    "            if magicNumber2 != MR_MAGIC_TRACK_NUMBER:\n",
    "                raise HoverRaceTrackException('Bad magic number for free track: 0x%08x' % magicNumber2)\n",
    "        return obj\n"
   ]
  },
  {
   "cell_type": "markdown",
   "id": "a2eaecd6-7fd7-4d95-8c08-4721137e7256",
   "metadata": {},
   "source": [
    "## Main application-like code"
   ]
  },
  {
   "cell_type": "code",
   "execution_count": 9,
   "id": "9c63f2f6-2fe2-49c0-985a-818848a07c93",
   "metadata": {},
   "outputs": [],
   "source": [
    "BASEDIR = Path('~/.var/app/com.valvesoftware.Steam/data/Steam/steamapps/common/HoverRace/tracks/').expanduser()"
   ]
  },
  {
   "cell_type": "code",
   "execution_count": 10,
   "id": "7a1561f6-ea86-45d4-b911-a37a2dc18969",
   "metadata": {},
   "outputs": [
    {
     "name": "stderr",
     "output_type": "stream",
     "text": [
      "/tmp/ipykernel_1222691/2142615983.py:15: UserWarning: WIP\n",
      "  warn('WIP')\n"
     ]
    }
   ],
   "source": [
    "with open(BASEDIR / 'ClassicH.trk', 'rb') as f:\n",
    "    record = ClassicRecordFile()\n",
    "    record.read(f)"
   ]
  },
  {
   "cell_type": "code",
   "execution_count": 11,
   "id": "3ee1d0f5-02de-459e-957f-5a9e89692fce",
   "metadata": {},
   "outputs": [
    {
     "data": {
      "text/plain": [
       "<ClassicRecordFile header=ClassicRecordFileHeader( title='\\x08\\rHoverRace track file, (c)GrokkSoft 1997\\n\\x1a', sumValid=True, checksum=2673339213, recordsMax=4, ) entry=TrackEntry(description='Level: Easy\\nLength: 0.6 km\\nShort and fast track\\nLots of curve and no jumps\\n\\n', regMinor=0, regMajor=0, registrationMode=<RegistrationMode.FREE: 1>, sortingIndex=30)>"
      ]
     },
     "execution_count": 11,
     "metadata": {},
     "output_type": "execute_result"
    }
   ],
   "source": [
    "record"
   ]
  },
  {
   "cell_type": "code",
   "execution_count": 12,
   "id": "bc4259ea-c2b5-4367-b055-76f1887c9b41",
   "metadata": {},
   "outputs": [
    {
     "data": {
      "text/plain": [
       "['0x5c', '0xc5', '0x1d7b', '0x81eff']"
      ]
     },
     "execution_count": 12,
     "metadata": {},
     "output_type": "execute_result"
    }
   ],
   "source": [
    "[hex(x) for x in record.header.recordList]"
   ]
  },
  {
   "cell_type": "code",
   "execution_count": null,
   "id": "6638bfb3-b5ab-4b5f-9dfe-633247615a10",
   "metadata": {},
   "outputs": [],
   "source": []
  }
 ],
 "metadata": {
  "kernelspec": {
   "display_name": "Python 3 (ipykernel)",
   "language": "python",
   "name": "python3"
  },
  "language_info": {
   "codemirror_mode": {
    "name": "ipython",
    "version": 3
   },
   "file_extension": ".py",
   "mimetype": "text/x-python",
   "name": "python",
   "nbconvert_exporter": "python",
   "pygments_lexer": "ipython3",
   "version": "3.13.3"
  }
 },
 "nbformat": 4,
 "nbformat_minor": 5
}
