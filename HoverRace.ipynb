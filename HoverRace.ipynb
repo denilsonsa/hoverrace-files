{
 "cells": [
  {
   "cell_type": "code",
   "execution_count": 1,
   "id": "f447842d-2918-4c91-b14e-d307f00f2263",
   "metadata": {},
   "outputs": [],
   "source": [
    "from __future__ import annotations\n",
    "\n",
    "import pprint\n",
    "import re\n",
    "import struct\n",
    "from array import array\n",
    "from pathlib import Path\n",
    "from typing import BinaryIO\n",
    "from warnings import warn"
   ]
  },
  {
   "cell_type": "markdown",
   "id": "fb3c77fe-e7c9-441d-859c-a1044a46a94b",
   "metadata": {},
   "source": [
    "## Shared / library code"
   ]
  },
  {
   "cell_type": "code",
   "execution_count": 2,
   "id": "15d277a2-eb54-435a-83b3-f6b9b85d896a",
   "metadata": {},
   "outputs": [],
   "source": [
    "# Why isn't this a built-in function already?\n",
    "\n",
    "def unpack_stream(format: str, stream: BinaryIO):\n",
    "    size = struct.calcsize(format)\n",
    "    buf = stream.read(size)\n",
    "    assert len(buf) == size\n",
    "    assert isinstance(buf, bytes)\n",
    "    return struct.unpack(format, buf)    "
   ]
  },
  {
   "cell_type": "code",
   "execution_count": 3,
   "id": "8f60c9f0-d890-4043-a247-696a62ecc61a",
   "metadata": {},
   "outputs": [],
   "source": [
    "# TODO: write methods or functions to read/write from/to a string\n",
    "# https://github.com/HoverRace/HoverRace/blob/master/engine/Parcel/ClassicObjStream.cpp\n",
    "\n",
    "MAX_STRING_LEN = 16 * 1024\n",
    "\n",
    "def pack_string_length(size: int) -> bytes:\n",
    "    if size < 0xff:\n",
    "        return struct.pack('<B', size)\n",
    "    elif size < 0xfffe:\n",
    "        return struct.pack('<BH', 0xff, size)\n",
    "    else:\n",
    "        return struct.pack('<BHL', 0xff, 0xffff, size)\n",
    "\n",
    "def unpack_string_length(stream: BinaryIO) -> int:\n",
    "    (b,) = unpack_stream('<B', stream)\n",
    "    if b < 0xff:\n",
    "        return b\n",
    "    (w,) = unpack_stream('<H', stream)\n",
    "    if w == 0xfffe:\n",
    "        # 0xfffe is the marker for Unicode strings.\n",
    "        raise NotImplementedError('ClassicObjStream::ReadStringLength for unicode strings')\n",
    "    elif w == 0xffff:\n",
    "        (dw,) = unpack_stream('<L', stream)\n",
    "        return dw\n",
    "    else:\n",
    "        return w\n",
    "\n",
    "def pack_string(s: str) -> bytes:\n",
    "    b = s.encode('ascii')\n",
    "    size = len(b)\n",
    "    if size > MAX_STRING_LEN:\n",
    "        # Note: this logic will lead to broken last character if we use utf-8.\n",
    "        warn('String length {} exceeds max {}; truncated: {}...'.format(size, MAX_STRING_LEN, s[:64]))\n",
    "        size = MAX_STRING_LEN\n",
    "    return pack_string_length(size) + b[:size]\n",
    "\n",
    "def unpack_string(stream: BinaryIO) -> str:\n",
    "    size = unpack_string_length(stream)\n",
    "    excess = 0\n",
    "    if size > MAX_STRING_LEN:\n",
    "        warn('String length {} exceeds max {}; truncating'.format(size, MAX_STRING_LEN))\n",
    "        excess = size - MAX_STRING_LEN\n",
    "        size = MAX_STRING_LEN\n",
    "    (buf,) = unpack_stream('{}s{}x'.format(size, excess), stream)\n",
    "    return buf.decode('ascii')"
   ]
  },
  {
   "cell_type": "code",
   "execution_count": 4,
   "id": "29e7aace-fb6d-4e32-b534-88a28557ce69",
   "metadata": {},
   "outputs": [],
   "source": [
    "# https://github.com/HoverRace/HoverRace/blob/master/engine/Parcel/ClassicRecordFile.cpp\n",
    "\n",
    "class ClassicRecordFileHeader:\n",
    "    def __init__(self, *, title='', sumValid=False, checksum=0, recordsMax=0):\n",
    "        self.title = title\n",
    "        self.sumValid = sumValid\n",
    "        self.checksum = checksum\n",
    "        self.recordsUsed = 0\n",
    "        assert recordsMax >= 0\n",
    "        self.recordsMax = recordsMax # AKA numRecords\n",
    "        # recordList should be a list of UInt32\n",
    "        self.recordList = array('L')\n",
    "        self.recordList.extend(0 for i in range(recordsMax))\n",
    "\n",
    "    def __repr__(self):\n",
    "        return re.sub(r'\\s+', ' ', '''\n",
    "        ClassicRecordFileHeader(\n",
    "            title={self.title!r},\n",
    "            sumValid={self.sumValid!r},\n",
    "            checksum={self.checksum!r},\n",
    "            recordsMax={self.recordsMax!r},\n",
    "        )'''.format(self=self)).strip()\n",
    "\n",
    "    # AKA .Serialize() for writing\n",
    "    def pack(self) -> bytes:\n",
    "        raise NotImplementedError('WIP')\n",
    "        return struct.pack()\n",
    "\n",
    "    # AKA .Serialize() for reading\n",
    "    # Modifies in-place\n",
    "    def unpack_here(self, stream: BinaryIO):\n",
    "        self.title = unpack_string(stream)\n",
    "        self.sumValid, self.checksum, self.recordsUsed, self.recordsMax = unpack_stream('<8xLLLL', stream)\n",
    "        self.sumValid = bool(self.sumValid)\n",
    "        self.recordList = array('L')\n",
    "\n",
    "        # Check title for validity.\n",
    "        if 'HoverRace track file' not in self.title and 'Fireball object factory resource file' not in self.title:\n",
    "            raise ValueError('Missing or corrupt header')\n",
    "\n",
    "        for i in range(self.recordsMax):\n",
    "            (uint32,) = unpack_stream('<L', stream)\n",
    "            self.recordList.append(uint32)\n",
    "\n",
    "    # AKA .Serialize() for reading\n",
    "    # Returns a new instance.\n",
    "    @classmethod\n",
    "    def unpack(cls, stream: BinaryIO):\n",
    "        obj = cls()\n",
    "        obj.unpack_here(stream)\n",
    "        return obj"
   ]
  },
  {
   "cell_type": "code",
   "execution_count": 5,
   "id": "87c6a49f-df1a-41b8-97fe-e439d8f4fa60",
   "metadata": {},
   "outputs": [],
   "source": [
    "# https://github.com/HoverRace/HoverRace/blob/master/engine/Parcel/ClassicRecordFile.cpp\n",
    "\n",
    "class ClassicRecordFile:\n",
    "    def __init__(self):\n",
    "        self.header = None\n",
    "\n",
    "    def __repr__(self):\n",
    "        return '<ClassicRecordFile header={self.header!r}>'.format(self=self)\n",
    "\n",
    "    def read(self, stream: BinaryIO):\n",
    "        self.header = ClassicRecordFileHeader.unpack(stream)\n",
    "        warn('WIP')"
   ]
  },
  {
   "cell_type": "markdown",
   "id": "a2eaecd6-7fd7-4d95-8c08-4721137e7256",
   "metadata": {},
   "source": [
    "## Main application-like code"
   ]
  },
  {
   "cell_type": "code",
   "execution_count": 6,
   "id": "9c63f2f6-2fe2-49c0-985a-818848a07c93",
   "metadata": {},
   "outputs": [],
   "source": [
    "BASEDIR = Path('~/.var/app/com.valvesoftware.Steam/data/Steam/steamapps/common/HoverRace/tracks/').expanduser()"
   ]
  },
  {
   "cell_type": "code",
   "execution_count": 7,
   "id": "7a1561f6-ea86-45d4-b911-a37a2dc18969",
   "metadata": {},
   "outputs": [
    {
     "name": "stderr",
     "output_type": "stream",
     "text": [
      "/tmp/ipykernel_1112879/4279814879.py:12: UserWarning: WIP\n",
      "  warn('WIP')\n"
     ]
    }
   ],
   "source": [
    "with open(BASEDIR / 'ClassicH.trk', 'rb') as f:\n",
    "    record = ClassicRecordFile()\n",
    "    record.read(f)"
   ]
  },
  {
   "cell_type": "code",
   "execution_count": 8,
   "id": "3ee1d0f5-02de-459e-957f-5a9e89692fce",
   "metadata": {},
   "outputs": [
    {
     "data": {
      "text/plain": [
       "<ClassicRecordFile header=ClassicRecordFileHeader( title='\\x08\\rHoverRace track file, (c)GrokkSoft 1997\\n\\x1a', sumValid=True, checksum=2673339213, recordsMax=4, )>"
      ]
     },
     "execution_count": 8,
     "metadata": {},
     "output_type": "execute_result"
    }
   ],
   "source": [
    "record"
   ]
  }
 ],
 "metadata": {
  "kernelspec": {
   "display_name": "Python 3 (ipykernel)",
   "language": "python",
   "name": "python3"
  },
  "language_info": {
   "codemirror_mode": {
    "name": "ipython",
    "version": 3
   },
   "file_extension": ".py",
   "mimetype": "text/x-python",
   "name": "python",
   "nbconvert_exporter": "python",
   "pygments_lexer": "ipython3",
   "version": "3.13.3"
  }
 },
 "nbformat": 4,
 "nbformat_minor": 5
}
